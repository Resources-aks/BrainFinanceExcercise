{
 "cells": [
  {
   "cell_type": "code",
   "execution_count": 51,
   "id": "5e0ef010",
   "metadata": {},
   "outputs": [],
   "source": [
    "import pandas as pd\n",
    "import numpy as np"
   ]
  },
  {
   "cell_type": "code",
   "execution_count": 83,
   "id": "6b524ef3",
   "metadata": {},
   "outputs": [
    {
     "name": "stdout",
     "output_type": "stream",
     "text": [
      "0.7379565498586647\n",
      "v_cont_55 0.7379565498586647\n"
     ]
    }
   ],
   "source": [
    "dataset=pd.read_csv('crime_prep.csv')\n",
    "v_cat_2 = dataset.pop('v_cat_2')\n",
    "corr = (dataset[dataset.columns[:]].corr()['target'].sort_values(ascending=True))\n",
    "max_corr = corr[-2]\n",
    "print(max_corr)\n",
    "\n",
    "for i,j in corr.items():\n",
    "    if j == max_corr:\n",
    "        print(i, j)        \n",
    "#     if j <= 0:\n",
    "#         dataset = dataset.drop(i, axis=1)\n",
    "        \n",
    "dataset.insert(1, 'v_cat_2', v_cat_2)\n",
    "X=dataset.iloc[:, 1:-1].values\n",
    "Y=dataset.iloc[:, 0].values"
   ]
  },
  {
   "cell_type": "code",
   "execution_count": 84,
   "id": "f6086e14",
   "metadata": {},
   "outputs": [],
   "source": [
    "from sklearn.impute import SimpleImputer\n",
    "Imputer=SimpleImputer(missing_values=np.nan,strategy='mean')\n",
    "Imputer=Imputer.fit(X[:, 2:-1])\n",
    "X[:, 2:-1]=Imputer.transform(X[:, 2:-1])"
   ]
  },
  {
   "cell_type": "code",
   "execution_count": 85,
   "id": "b60c7497",
   "metadata": {},
   "outputs": [],
   "source": [
    "from sklearn.preprocessing import LabelEncoder\n",
    "labelencoder_X = LabelEncoder()\n",
    "X[:, 0] = labelencoder_X.fit_transform(X[:, 0])        "
   ]
  },
  {
   "cell_type": "code",
   "execution_count": 86,
   "id": "3ed2bcf6",
   "metadata": {},
   "outputs": [],
   "source": [
    "from sklearn.model_selection import train_test_split\n",
    "X_train,X_test,Y_train,Y_test=train_test_split(X,Y,test_size=0.2,random_state=0)"
   ]
  },
  {
   "cell_type": "code",
   "execution_count": 88,
   "id": "3cba2be9",
   "metadata": {},
   "outputs": [],
   "source": [
    "from sklearn.preprocessing import StandardScaler\n",
    "sc_X = StandardScaler()\n",
    "X_train=sc_X.fit_transform(X_train)\n",
    "X_test=sc_X.transform(X_test)"
   ]
  },
  {
   "cell_type": "code",
   "execution_count": 93,
   "id": "0833aa8d",
   "metadata": {},
   "outputs": [],
   "source": [
    "from sklearn.tree import DecisionTreeRegressor\n",
    "regressor = DecisionTreeRegressor(random_state = 0)\n",
    "regressor.fit(X_train, Y_train)\n",
    "y_pred = regressor.predict(X_test)"
   ]
  },
  {
   "cell_type": "code",
   "execution_count": 95,
   "id": "b9410f8a",
   "metadata": {},
   "outputs": [
    {
     "name": "stdout",
     "output_type": "stream",
     "text": [
      "0.04082155388471177\n",
      "0.2020434455376164\n"
     ]
    }
   ],
   "source": [
    "from sklearn.metrics import mean_squared_error\n",
    "import math\n",
    "print(mean_squared_error(Y_test, y_pred))\n",
    "print(math.sqrt(mean_squared_error(Y_test, y_pred)))"
   ]
  }
 ],
 "metadata": {
  "kernelspec": {
   "display_name": "Python 3 (ipykernel)",
   "language": "python",
   "name": "python3"
  },
  "language_info": {
   "codemirror_mode": {
    "name": "ipython",
    "version": 3
   },
   "file_extension": ".py",
   "mimetype": "text/x-python",
   "name": "python",
   "nbconvert_exporter": "python",
   "pygments_lexer": "ipython3",
   "version": "3.7.9"
  }
 },
 "nbformat": 4,
 "nbformat_minor": 5
}
