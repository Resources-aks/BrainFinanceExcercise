{
 "cells": [
  {
   "cell_type": "code",
   "execution_count": 8,
   "id": "d39cfb37",
   "metadata": {},
   "outputs": [],
   "source": [
    "import pandas as pd\n",
    "import numpy as np"
   ]
  },
  {
   "cell_type": "code",
   "execution_count": 9,
   "id": "bc088b19",
   "metadata": {},
   "outputs": [
    {
     "name": "stdout",
     "output_type": "stream",
     "text": [
      "0.7379565498586647\n",
      "v_cont_55 0.7379565498586647\n"
     ]
    }
   ],
   "source": [
    "dataset=pd.read_csv('crime_prep.csv')\n",
    "v_cat_2 = dataset.pop('v_cat_2')\n",
    "corr = (dataset[dataset.columns[:]].corr()['target'].sort_values(ascending=True))\n",
    "max_corr = corr[-2]\n",
    "print(max_corr)\n",
    "\n",
    "for i,j in corr.items():\n",
    "    if j == max_corr:\n",
    "        print(i, j)        \n",
    "#     if j <= 0:\n",
    "#         dataset = dataset.drop(i, axis=1)\n",
    "        \n",
    "dataset.insert(1, 'v_cat_2', v_cat_2)\n",
    "X=dataset.iloc[:, 1:-1].values\n",
    "Y=dataset.iloc[:, 0].values"
   ]
  },
  {
   "cell_type": "code",
   "execution_count": 10,
   "id": "aaae690a",
   "metadata": {},
   "outputs": [],
   "source": [
    "from sklearn.impute import SimpleImputer\n",
    "Imputer=SimpleImputer(missing_values=np.nan,strategy='mean')\n",
    "Imputer=Imputer.fit(X[:, 2:-1])\n",
    "X[:, 2:-1]=Imputer.transform(X[:, 2:-1])"
   ]
  },
  {
   "cell_type": "code",
   "execution_count": 11,
   "id": "0d6e7b7b",
   "metadata": {},
   "outputs": [],
   "source": [
    "from sklearn.preprocessing import LabelEncoder\n",
    "labelencoder_X = LabelEncoder()\n",
    "X[:, 0] = labelencoder_X.fit_transform(X[:, 0])        "
   ]
  },
  {
   "cell_type": "code",
   "execution_count": 12,
   "id": "71ed1014",
   "metadata": {},
   "outputs": [],
   "source": [
    "from sklearn.model_selection import train_test_split\n",
    "X_train,X_test,Y_train,Y_test=train_test_split(X,Y,test_size=0.2,random_state=0)"
   ]
  },
  {
   "cell_type": "code",
   "execution_count": 13,
   "id": "62ef826d",
   "metadata": {},
   "outputs": [],
   "source": [
    "from sklearn.preprocessing import StandardScaler\n",
    "sc_X = StandardScaler()\n",
    "X_train=sc_X.fit_transform(X_train)\n",
    "X_test=sc_X.transform(X_test)"
   ]
  },
  {
   "cell_type": "code",
   "execution_count": 15,
   "id": "3f1cb7da",
   "metadata": {},
   "outputs": [],
   "source": [
    "from sklearn.linear_model import LinearRegression\n",
    "regressor=LinearRegression()\n",
    "regressor.fit(X_train,Y_train)\n",
    "y_pred = regressor.predict(X_test)"
   ]
  },
  {
   "cell_type": "code",
   "execution_count": 16,
   "id": "61b3be68",
   "metadata": {},
   "outputs": [
    {
     "name": "stdout",
     "output_type": "stream",
     "text": [
      "0.02039289945779944\n",
      "0.14280370953795088\n"
     ]
    }
   ],
   "source": [
    "from sklearn.metrics import mean_squared_error\n",
    "import math\n",
    "print(mean_squared_error(Y_test, y_pred))\n",
    "print(math.sqrt(mean_squared_error(Y_test, y_pred)))"
   ]
  },
  {
   "cell_type": "code",
   "execution_count": null,
   "id": "5d20d7c2",
   "metadata": {},
   "outputs": [],
   "source": []
  }
 ],
 "metadata": {
  "kernelspec": {
   "display_name": "Python 3 (ipykernel)",
   "language": "python",
   "name": "python3"
  },
  "language_info": {
   "codemirror_mode": {
    "name": "ipython",
    "version": 3
   },
   "file_extension": ".py",
   "mimetype": "text/x-python",
   "name": "python",
   "nbconvert_exporter": "python",
   "pygments_lexer": "ipython3",
   "version": "3.7.9"
  }
 },
 "nbformat": 4,
 "nbformat_minor": 5
}
